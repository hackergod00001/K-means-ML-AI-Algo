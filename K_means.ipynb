{
  "nbformat": 4,
  "nbformat_minor": 0,
  "metadata": {
    "colab": {
      "name": "K means.ipynb",
      "provenance": [],
      "authorship_tag": "ABX9TyMDTKPvssOPegYqE4tsw1tv",
      "include_colab_link": true
    },
    "kernelspec": {
      "name": "python3",
      "display_name": "Python 3"
    },
    "language_info": {
      "name": "python"
    }
  },
  "cells": [
    {
      "cell_type": "markdown",
      "metadata": {
        "id": "view-in-github",
        "colab_type": "text"
      },
      "source": [
        "<a href=\"https://colab.research.google.com/github/hackergod00001/K-means-ML-AI-Algo/blob/main/K_means.ipynb\" target=\"_parent\"><img src=\"https://colab.research.google.com/assets/colab-badge.svg\" alt=\"Open In Colab\"/></a>"
      ]
    },
    {
      "cell_type": "code",
      "metadata": {
        "id": "MclijYAaWTCo"
      },
      "source": [
        "import pandas as pd\n",
        "import numpy as np\n",
        "import matplotlib.pyplot as plt\n",
        "from sklearn.cluster import KMeans\n",
        "from sklearn.preprocessing import MinMaxScaler\n",
        "%matplotlib inline\n"
      ],
      "execution_count": 24,
      "outputs": []
    },
    {
      "cell_type": "code",
      "metadata": {
        "colab": {
          "base_uri": "https://localhost:8080/",
          "height": 726
        },
        "id": "D_Za0TDrZnHk",
        "outputId": "165224c9-4389-4f7f-fd22-63a74bfdbef9"
      },
      "source": [
        "df=pd.read_csv(\"/content/income.csv - income.csv.csv\")\n",
        "# df.head\n",
        "df"
      ],
      "execution_count": 25,
      "outputs": [
        {
          "output_type": "execute_result",
          "data": {
            "text/html": [
              "<div>\n",
              "<style scoped>\n",
              "    .dataframe tbody tr th:only-of-type {\n",
              "        vertical-align: middle;\n",
              "    }\n",
              "\n",
              "    .dataframe tbody tr th {\n",
              "        vertical-align: top;\n",
              "    }\n",
              "\n",
              "    .dataframe thead th {\n",
              "        text-align: right;\n",
              "    }\n",
              "</style>\n",
              "<table border=\"1\" class=\"dataframe\">\n",
              "  <thead>\n",
              "    <tr style=\"text-align: right;\">\n",
              "      <th></th>\n",
              "      <th>Name</th>\n",
              "      <th>Age</th>\n",
              "      <th>Income($)</th>\n",
              "    </tr>\n",
              "  </thead>\n",
              "  <tbody>\n",
              "    <tr>\n",
              "      <th>0</th>\n",
              "      <td>Rob</td>\n",
              "      <td>27</td>\n",
              "      <td>70000</td>\n",
              "    </tr>\n",
              "    <tr>\n",
              "      <th>1</th>\n",
              "      <td>Michael</td>\n",
              "      <td>29</td>\n",
              "      <td>90000</td>\n",
              "    </tr>\n",
              "    <tr>\n",
              "      <th>2</th>\n",
              "      <td>Mohan</td>\n",
              "      <td>29</td>\n",
              "      <td>61000</td>\n",
              "    </tr>\n",
              "    <tr>\n",
              "      <th>3</th>\n",
              "      <td>Ismail</td>\n",
              "      <td>28</td>\n",
              "      <td>60000</td>\n",
              "    </tr>\n",
              "    <tr>\n",
              "      <th>4</th>\n",
              "      <td>Kory</td>\n",
              "      <td>42</td>\n",
              "      <td>150000</td>\n",
              "    </tr>\n",
              "    <tr>\n",
              "      <th>5</th>\n",
              "      <td>Gautam</td>\n",
              "      <td>39</td>\n",
              "      <td>155000</td>\n",
              "    </tr>\n",
              "    <tr>\n",
              "      <th>6</th>\n",
              "      <td>David</td>\n",
              "      <td>41</td>\n",
              "      <td>160000</td>\n",
              "    </tr>\n",
              "    <tr>\n",
              "      <th>7</th>\n",
              "      <td>Andrea</td>\n",
              "      <td>38</td>\n",
              "      <td>162000</td>\n",
              "    </tr>\n",
              "    <tr>\n",
              "      <th>8</th>\n",
              "      <td>Brad</td>\n",
              "      <td>36</td>\n",
              "      <td>156000</td>\n",
              "    </tr>\n",
              "    <tr>\n",
              "      <th>9</th>\n",
              "      <td>Angelina</td>\n",
              "      <td>35</td>\n",
              "      <td>130000</td>\n",
              "    </tr>\n",
              "    <tr>\n",
              "      <th>10</th>\n",
              "      <td>Donald</td>\n",
              "      <td>37</td>\n",
              "      <td>137000</td>\n",
              "    </tr>\n",
              "    <tr>\n",
              "      <th>11</th>\n",
              "      <td>Tom</td>\n",
              "      <td>26</td>\n",
              "      <td>45000</td>\n",
              "    </tr>\n",
              "    <tr>\n",
              "      <th>12</th>\n",
              "      <td>Arnold</td>\n",
              "      <td>27</td>\n",
              "      <td>48000</td>\n",
              "    </tr>\n",
              "    <tr>\n",
              "      <th>13</th>\n",
              "      <td>Jared</td>\n",
              "      <td>28</td>\n",
              "      <td>51000</td>\n",
              "    </tr>\n",
              "    <tr>\n",
              "      <th>14</th>\n",
              "      <td>Stark</td>\n",
              "      <td>29</td>\n",
              "      <td>49500</td>\n",
              "    </tr>\n",
              "    <tr>\n",
              "      <th>15</th>\n",
              "      <td>Ranbir</td>\n",
              "      <td>32</td>\n",
              "      <td>53000</td>\n",
              "    </tr>\n",
              "    <tr>\n",
              "      <th>16</th>\n",
              "      <td>Dipika</td>\n",
              "      <td>40</td>\n",
              "      <td>65000</td>\n",
              "    </tr>\n",
              "    <tr>\n",
              "      <th>17</th>\n",
              "      <td>Priyanka</td>\n",
              "      <td>41</td>\n",
              "      <td>63000</td>\n",
              "    </tr>\n",
              "    <tr>\n",
              "      <th>18</th>\n",
              "      <td>Nick</td>\n",
              "      <td>43</td>\n",
              "      <td>64000</td>\n",
              "    </tr>\n",
              "    <tr>\n",
              "      <th>19</th>\n",
              "      <td>Alia</td>\n",
              "      <td>39</td>\n",
              "      <td>80000</td>\n",
              "    </tr>\n",
              "    <tr>\n",
              "      <th>20</th>\n",
              "      <td>Sid</td>\n",
              "      <td>41</td>\n",
              "      <td>82000</td>\n",
              "    </tr>\n",
              "    <tr>\n",
              "      <th>21</th>\n",
              "      <td>Abdul</td>\n",
              "      <td>39</td>\n",
              "      <td>58000</td>\n",
              "    </tr>\n",
              "  </tbody>\n",
              "</table>\n",
              "</div>"
            ],
            "text/plain": [
              "        Name  Age  Income($)\n",
              "0        Rob   27      70000\n",
              "1    Michael   29      90000\n",
              "2      Mohan   29      61000\n",
              "3     Ismail   28      60000\n",
              "4       Kory   42     150000\n",
              "5     Gautam   39     155000\n",
              "6      David   41     160000\n",
              "7     Andrea   38     162000\n",
              "8       Brad   36     156000\n",
              "9   Angelina   35     130000\n",
              "10    Donald   37     137000\n",
              "11       Tom   26      45000\n",
              "12    Arnold   27      48000\n",
              "13     Jared   28      51000\n",
              "14     Stark   29      49500\n",
              "15    Ranbir   32      53000\n",
              "16    Dipika   40      65000\n",
              "17  Priyanka   41      63000\n",
              "18      Nick   43      64000\n",
              "19      Alia   39      80000\n",
              "20       Sid   41      82000\n",
              "21     Abdul   39      58000"
            ]
          },
          "metadata": {},
          "execution_count": 25
        }
      ]
    },
    {
      "cell_type": "code",
      "metadata": {
        "colab": {
          "base_uri": "https://localhost:8080/",
          "height": 296
        },
        "id": "QsWp88CBWp_x",
        "outputId": "d74f9e53-2eaf-40b3-b574-26093cd6bd74"
      },
      "source": [
        "plt.scatter(df.Age,df['Income($)'])\n",
        "plt.xlabel('Age')\n",
        "plt.ylabel('Income($)')"
      ],
      "execution_count": 26,
      "outputs": [
        {
          "output_type": "execute_result",
          "data": {
            "text/plain": [
              "Text(0, 0.5, 'Income($)')"
            ]
          },
          "metadata": {},
          "execution_count": 26
        },
        {
          "output_type": "display_data",
          "data": {
            "image/png": "[encoded data removed]",
            "text/plain": [
              "<Figure size 432x288 with 1 Axes>"
            ]
          },
          "metadata": {
            "needs_background": "light"
          }
        }
      ]
    },
    {
      "cell_type": "code",
      "metadata": {
        "colab": {
          "base_uri": "https://localhost:8080/"
        },
        "id": "H_iL4yDNWu20",
        "outputId": "d73fabba-ade8-4119-f919-6d456dce4bf2"
      },
      "source": [
        "from sklearn.cluster import KMeans\n",
        "kmean= KMeans(n_clusters=3)\n",
        "y_predicted=kmean.fit_predict(df[['Age','Income($)']])\n",
        "y_predicted"
      ],
      "execution_count": 27,
      "outputs": [
        {
          "output_type": "execute_result",
          "data": {
            "text/plain": [
              "array([0, 0, 2, 2, 1, 1, 1, 1, 1, 1, 1, 2, 2, 2, 2, 2, 2, 2, 2, 0, 0, 2],\n",
              "      dtype=int32)"
            ]
          },
          "metadata": {},
          "execution_count": 27
        }
      ]
    },
    {
      "cell_type": "code",
      "metadata": {
        "colab": {
          "base_uri": "https://localhost:8080/",
          "height": 726
        },
        "id": "pvVZZFqBaeTO",
        "outputId": "e2859117-b3b6-488c-ea83-11221fd533e9"
      },
      "source": [
        "df['cluster']=y_predicted\n",
        "df"
      ],
      "execution_count": 28,
      "outputs": [
        {
          "output_type": "execute_result",
          "data": {
            "text/html": [
              "<div>\n",
              "<style scoped>\n",
              "    .dataframe tbody tr th:only-of-type {\n",
              "        vertical-align: middle;\n",
              "    }\n",
              "\n",
              "    .dataframe tbody tr th {\n",
              "        vertical-align: top;\n",
              "    }\n",
              "\n",
              "    .dataframe thead th {\n",
              "        text-align: right;\n",
              "    }\n",
              "</style>\n",
              "<table border=\"1\" class=\"dataframe\">\n",
              "  <thead>\n",
              "    <tr style=\"text-align: right;\">\n",
              "      <th></th>\n",
              "      <th>Name</th>\n",
              "      <th>Age</th>\n",
              "      <th>Income($)</th>\n",
              "      <th>cluster</th>\n",
              "    </tr>\n",
              "  </thead>\n",
              "  <tbody>\n",
              "    <tr>\n",
              "      <th>0</th>\n",
              "      <td>Rob</td>\n",
              "      <td>27</td>\n",
              "      <td>70000</td>\n",
              "      <td>0</td>\n",
              "    </tr>\n",
              "    <tr>\n",
              "      <th>1</th>\n",
              "      <td>Michael</td>\n",
              "      <td>29</td>\n",
              "      <td>90000</td>\n",
              "      <td>0</td>\n",
              "    </tr>\n",
              "    <tr>\n",
              "      <th>2</th>\n",
              "      <td>Mohan</td>\n",
              "      <td>29</td>\n",
              "      <td>61000</td>\n",
              "      <td>2</td>\n",
              "    </tr>\n",
              "    <tr>\n",
              "      <th>3</th>\n",
              "      <td>Ismail</td>\n",
              "      <td>28</td>\n",
              "      <td>60000</td>\n",
              "      <td>2</td>\n",
              "    </tr>\n",
              "    <tr>\n",
              "      <th>4</th>\n",
              "      <td>Kory</td>\n",
              "      <td>42</td>\n",
              "      <td>150000</td>\n",
              "      <td>1</td>\n",
              "    </tr>\n",
              "    <tr>\n",
              "      <th>5</th>\n",
              "      <td>Gautam</td>\n",
              "      <td>39</td>\n",
              "      <td>155000</td>\n",
              "      <td>1</td>\n",
              "    </tr>\n",
              "    <tr>\n",
              "      <th>6</th>\n",
              "      <td>David</td>\n",
              "      <td>41</td>\n",
              "      <td>160000</td>\n",
              "      <td>1</td>\n",
              "    </tr>\n",
              "    <tr>\n",
              "      <th>7</th>\n",
              "      <td>Andrea</td>\n",
              "      <td>38</td>\n",
              "      <td>162000</td>\n",
              "      <td>1</td>\n",
              "    </tr>\n",
              "    <tr>\n",
              "      <th>8</th>\n",
              "      <td>Brad</td>\n",
              "      <td>36</td>\n",
              "      <td>156000</td>\n",
              "      <td>1</td>\n",
              "    </tr>\n",
              "    <tr>\n",
              "      <th>9</th>\n",
              "      <td>Angelina</td>\n",
              "      <td>35</td>\n",
              "      <td>130000</td>\n",
              "      <td>1</td>\n",
              "    </tr>\n",
              "    <tr>\n",
              "      <th>10</th>\n",
              "      <td>Donald</td>\n",
              "      <td>37</td>\n",
              "      <td>137000</td>\n",
              "      <td>1</td>\n",
              "    </tr>\n",
              "    <tr>\n",
              "      <th>11</th>\n",
              "      <td>Tom</td>\n",
              "      <td>26</td>\n",
              "      <td>45000</td>\n",
              "      <td>2</td>\n",
              "    </tr>\n",
              "    <tr>\n",
              "      <th>12</th>\n",
              "      <td>Arnold</td>\n",
              "      <td>27</td>\n",
              "      <td>48000</td>\n",
              "      <td>2</td>\n",
              "    </tr>\n",
              "    <tr>\n",
              "      <th>13</th>\n",
              "      <td>Jared</td>\n",
              "      <td>28</td>\n",
              "      <td>51000</td>\n",
              "      <td>2</td>\n",
              "    </tr>\n",
              "    <tr>\n",
              "      <th>14</th>\n",
              "      <td>Stark</td>\n",
              "      <td>29</td>\n",
              "      <td>49500</td>\n",
              "      <td>2</td>\n",
              "    </tr>\n",
              "    <tr>\n",
              "      <th>15</th>\n",
              "      <td>Ranbir</td>\n",
              "      <td>32</td>\n",
              "      <td>53000</td>\n",
              "      <td>2</td>\n",
              "    </tr>\n",
              "    <tr>\n",
              "      <th>16</th>\n",
              "      <td>Dipika</td>\n",
              "      <td>40</td>\n",
              "      <td>65000</td>\n",
              "      <td>2</td>\n",
              "    </tr>\n",
              "    <tr>\n",
              "      <th>17</th>\n",
              "      <td>Priyanka</td>\n",
              "      <td>41</td>\n",
              "      <td>63000</td>\n",
              "      <td>2</td>\n",
              "    </tr>\n",
              "    <tr>\n",
              "      <th>18</th>\n",
              "      <td>Nick</td>\n",
              "      <td>43</td>\n",
              "      <td>64000</td>\n",
              "      <td>2</td>\n",
              "    </tr>\n",
              "    <tr>\n",
              "      <th>19</th>\n",
              "      <td>Alia</td>\n",
              "      <td>39</td>\n",
              "      <td>80000</td>\n",
              "      <td>0</td>\n",
              "    </tr>\n",
              "    <tr>\n",
              "      <th>20</th>\n",
              "      <td>Sid</td>\n",
              "      <td>41</td>\n",
              "      <td>82000</td>\n",
              "      <td>0</td>\n",
              "    </tr>\n",
              "    <tr>\n",
              "      <th>21</th>\n",
              "      <td>Abdul</td>\n",
              "      <td>39</td>\n",
              "      <td>58000</td>\n",
              "      <td>2</td>\n",
              "    </tr>\n",
              "  </tbody>\n",
              "</table>\n",
              "</div>"
            ],
            "text/plain": [
              "        Name  Age  Income($)  cluster\n",
              "0        Rob   27      70000        0\n",
              "1    Michael   29      90000        0\n",
              "2      Mohan   29      61000        2\n",
              "3     Ismail   28      60000        2\n",
              "4       Kory   42     150000        1\n",
              "5     Gautam   39     155000        1\n",
              "6      David   41     160000        1\n",
              "7     Andrea   38     162000        1\n",
              "8       Brad   36     156000        1\n",
              "9   Angelina   35     130000        1\n",
              "10    Donald   37     137000        1\n",
              "11       Tom   26      45000        2\n",
              "12    Arnold   27      48000        2\n",
              "13     Jared   28      51000        2\n",
              "14     Stark   29      49500        2\n",
              "15    Ranbir   32      53000        2\n",
              "16    Dipika   40      65000        2\n",
              "17  Priyanka   41      63000        2\n",
              "18      Nick   43      64000        2\n",
              "19      Alia   39      80000        0\n",
              "20       Sid   41      82000        0\n",
              "21     Abdul   39      58000        2"
            ]
          },
          "metadata": {},
          "execution_count": 28
        }
      ]
    },
    {
      "cell_type": "code",
      "metadata": {
        "colab": {
          "base_uri": "https://localhost:8080/"
        },
        "id": "LB-yvzuKW7QU",
        "outputId": "56652694-f86c-436f-9087-38f24540eab0"
      },
      "source": [
        "kmean.cluster_centers_"
      ],
      "execution_count": 29,
      "outputs": [
        {
          "output_type": "execute_result",
          "data": {
            "text/plain": [
              "array([[3.40000000e+01, 8.05000000e+04],\n",
              "       [3.82857143e+01, 1.50000000e+05],\n",
              "       [3.29090909e+01, 5.61363636e+04]])"
            ]
          },
          "metadata": {},
          "execution_count": 29
        }
      ]
    },
    {
      "cell_type": "code",
      "metadata": {
        "colab": {
          "base_uri": "https://localhost:8080/",
          "height": 296
        },
        "id": "uTCUJm8mXAEj",
        "outputId": "a7f0fd33-497d-4cc5-9af7-0aa252a51b63"
      },
      "source": [
        "df1=df[df.cluster==0]\n",
        "df2=df[df.cluster==1]\n",
        "df3=df[df.cluster==2]\n",
        "plt.scatter(df1.Age,df1['Income($)'],color='green')\n",
        "plt.scatter(df2.Age,df2['Income($)'],color='red')\n",
        "plt.scatter(df3.Age,df3['Income($)'],color='yellow')\n",
        "plt.scatter(kmean.cluster_centers_[:,0],kmean.cluster_centers_[:,1],color='blue',marker='*',label='centroid')\n",
        "plt.xlabel('Age')\n",
        "plt.ylabel('Income($)')\n",
        "plt.legend()"
      ],
      "execution_count": 30,
      "outputs": [
        {
          "output_type": "execute_result",
          "data": {
            "text/plain": [
              "<matplotlib.legend.Legend at 0x7efd2616e690>"
            ]
          },
          "metadata": {},
          "execution_count": 30
        },
        {
          "output_type": "display_data",
          "data": {
            "image/png": "[encoded data removed]",
            "text/plain": [
              "<Figure size 432x288 with 1 Axes>"
            ]
          },
          "metadata": {
            "needs_background": "light"
          }
        }
      ]
    },
    {
      "cell_type": "code",
      "metadata": {
        "colab": {
          "base_uri": "https://localhost:8080/",
          "height": 726
        },
        "id": "naXvsZgkXCnt",
        "outputId": "a451df71-8e17-44f6-945c-aa0ea293c29d"
      },
      "source": [
        "scaler=MinMaxScaler()\n",
        "scaler.fit(df[['Income($)']])\n",
        "df['Income($)']=scaler.transform(df[['Income($)']])\n",
        "scaler.fit(df[['Age']])\n",
        "df['Age']=scaler.transform(df[['Age']])\n",
        "df"
      ],
      "execution_count": 34,
      "outputs": [
        {
          "output_type": "execute_result",
          "data": {
            "text/html": [
              "<div>\n",
              "<style scoped>\n",
              "    .dataframe tbody tr th:only-of-type {\n",
              "        vertical-align: middle;\n",
              "    }\n",
              "\n",
              "    .dataframe tbody tr th {\n",
              "        vertical-align: top;\n",
              "    }\n",
              "\n",
              "    .dataframe thead th {\n",
              "        text-align: right;\n",
              "    }\n",
              "</style>\n",
              "<table border=\"1\" class=\"dataframe\">\n",
              "  <thead>\n",
              "    <tr style=\"text-align: right;\">\n",
              "      <th></th>\n",
              "      <th>Name</th>\n",
              "      <th>Age</th>\n",
              "      <th>Income($)</th>\n",
              "      <th>cluster</th>\n",
              "    </tr>\n",
              "  </thead>\n",
              "  <tbody>\n",
              "    <tr>\n",
              "      <th>0</th>\n",
              "      <td>Rob</td>\n",
              "      <td>0.058824</td>\n",
              "      <td>0.213675</td>\n",
              "      <td>0</td>\n",
              "    </tr>\n",
              "    <tr>\n",
              "      <th>1</th>\n",
              "      <td>Michael</td>\n",
              "      <td>0.176471</td>\n",
              "      <td>0.384615</td>\n",
              "      <td>0</td>\n",
              "    </tr>\n",
              "    <tr>\n",
              "      <th>2</th>\n",
              "      <td>Mohan</td>\n",
              "      <td>0.176471</td>\n",
              "      <td>0.136752</td>\n",
              "      <td>2</td>\n",
              "    </tr>\n",
              "    <tr>\n",
              "      <th>3</th>\n",
              "      <td>Ismail</td>\n",
              "      <td>0.117647</td>\n",
              "      <td>0.128205</td>\n",
              "      <td>2</td>\n",
              "    </tr>\n",
              "    <tr>\n",
              "      <th>4</th>\n",
              "      <td>Kory</td>\n",
              "      <td>0.941176</td>\n",
              "      <td>0.897436</td>\n",
              "      <td>1</td>\n",
              "    </tr>\n",
              "    <tr>\n",
              "      <th>5</th>\n",
              "      <td>Gautam</td>\n",
              "      <td>0.764706</td>\n",
              "      <td>0.940171</td>\n",
              "      <td>1</td>\n",
              "    </tr>\n",
              "    <tr>\n",
              "      <th>6</th>\n",
              "      <td>David</td>\n",
              "      <td>0.882353</td>\n",
              "      <td>0.982906</td>\n",
              "      <td>1</td>\n",
              "    </tr>\n",
              "    <tr>\n",
              "      <th>7</th>\n",
              "      <td>Andrea</td>\n",
              "      <td>0.705882</td>\n",
              "      <td>1.000000</td>\n",
              "      <td>1</td>\n",
              "    </tr>\n",
              "    <tr>\n",
              "      <th>8</th>\n",
              "      <td>Brad</td>\n",
              "      <td>0.588235</td>\n",
              "      <td>0.948718</td>\n",
              "      <td>1</td>\n",
              "    </tr>\n",
              "    <tr>\n",
              "      <th>9</th>\n",
              "      <td>Angelina</td>\n",
              "      <td>0.529412</td>\n",
              "      <td>0.726496</td>\n",
              "      <td>1</td>\n",
              "    </tr>\n",
              "    <tr>\n",
              "      <th>10</th>\n",
              "      <td>Donald</td>\n",
              "      <td>0.647059</td>\n",
              "      <td>0.786325</td>\n",
              "      <td>1</td>\n",
              "    </tr>\n",
              "    <tr>\n",
              "      <th>11</th>\n",
              "      <td>Tom</td>\n",
              "      <td>0.000000</td>\n",
              "      <td>0.000000</td>\n",
              "      <td>2</td>\n",
              "    </tr>\n",
              "    <tr>\n",
              "      <th>12</th>\n",
              "      <td>Arnold</td>\n",
              "      <td>0.058824</td>\n",
              "      <td>0.025641</td>\n",
              "      <td>2</td>\n",
              "    </tr>\n",
              "    <tr>\n",
              "      <th>13</th>\n",
              "      <td>Jared</td>\n",
              "      <td>0.117647</td>\n",
              "      <td>0.051282</td>\n",
              "      <td>2</td>\n",
              "    </tr>\n",
              "    <tr>\n",
              "      <th>14</th>\n",
              "      <td>Stark</td>\n",
              "      <td>0.176471</td>\n",
              "      <td>0.038462</td>\n",
              "      <td>2</td>\n",
              "    </tr>\n",
              "    <tr>\n",
              "      <th>15</th>\n",
              "      <td>Ranbir</td>\n",
              "      <td>0.352941</td>\n",
              "      <td>0.068376</td>\n",
              "      <td>2</td>\n",
              "    </tr>\n",
              "    <tr>\n",
              "      <th>16</th>\n",
              "      <td>Dipika</td>\n",
              "      <td>0.823529</td>\n",
              "      <td>0.170940</td>\n",
              "      <td>2</td>\n",
              "    </tr>\n",
              "    <tr>\n",
              "      <th>17</th>\n",
              "      <td>Priyanka</td>\n",
              "      <td>0.882353</td>\n",
              "      <td>0.153846</td>\n",
              "      <td>2</td>\n",
              "    </tr>\n",
              "    <tr>\n",
              "      <th>18</th>\n",
              "      <td>Nick</td>\n",
              "      <td>1.000000</td>\n",
              "      <td>0.162393</td>\n",
              "      <td>2</td>\n",
              "    </tr>\n",
              "    <tr>\n",
              "      <th>19</th>\n",
              "      <td>Alia</td>\n",
              "      <td>0.764706</td>\n",
              "      <td>0.299145</td>\n",
              "      <td>0</td>\n",
              "    </tr>\n",
              "    <tr>\n",
              "      <th>20</th>\n",
              "      <td>Sid</td>\n",
              "      <td>0.882353</td>\n",
              "      <td>0.316239</td>\n",
              "      <td>0</td>\n",
              "    </tr>\n",
              "    <tr>\n",
              "      <th>21</th>\n",
              "      <td>Abdul</td>\n",
              "      <td>0.764706</td>\n",
              "      <td>0.111111</td>\n",
              "      <td>2</td>\n",
              "    </tr>\n",
              "  </tbody>\n",
              "</table>\n",
              "</div>"
            ],
            "text/plain": [
              "        Name       Age  Income($)  cluster\n",
              "0        Rob  0.058824   0.213675        0\n",
              "1    Michael  0.176471   0.384615        0\n",
              "2      Mohan  0.176471   0.136752        2\n",
              "3     Ismail  0.117647   0.128205        2\n",
              "4       Kory  0.941176   0.897436        1\n",
              "5     Gautam  0.764706   0.940171        1\n",
              "6      David  0.882353   0.982906        1\n",
              "7     Andrea  0.705882   1.000000        1\n",
              "8       Brad  0.588235   0.948718        1\n",
              "9   Angelina  0.529412   0.726496        1\n",
              "10    Donald  0.647059   0.786325        1\n",
              "11       Tom  0.000000   0.000000        2\n",
              "12    Arnold  0.058824   0.025641        2\n",
              "13     Jared  0.117647   0.051282        2\n",
              "14     Stark  0.176471   0.038462        2\n",
              "15    Ranbir  0.352941   0.068376        2\n",
              "16    Dipika  0.823529   0.170940        2\n",
              "17  Priyanka  0.882353   0.153846        2\n",
              "18      Nick  1.000000   0.162393        2\n",
              "19      Alia  0.764706   0.299145        0\n",
              "20       Sid  0.882353   0.316239        0\n",
              "21     Abdul  0.764706   0.111111        2"
            ]
          },
          "metadata": {},
          "execution_count": 34
        }
      ]
    },
    {
      "cell_type": "code",
      "metadata": {
        "colab": {
          "base_uri": "https://localhost:8080/",
          "height": 282
        },
        "id": "MFg24fAbcCvT",
        "outputId": "9b4025f7-90f0-4c89-dbe4-f395b6f29406"
      },
      "source": [
        "plt.scatter(df.Age,df['Income($)'])"
      ],
      "execution_count": 35,
      "outputs": [
        {
          "output_type": "execute_result",
          "data": {
            "text/plain": [
              "<matplotlib.collections.PathCollection at 0x7efd2619aad0>"
            ]
          },
          "metadata": {},
          "execution_count": 35
        },
        {
          "output_type": "display_data",
          "data": {
            "image/png": "[encoded data removed]",
            "text/plain": [
              "<Figure size 432x288 with 1 Axes>"
            ]
          },
          "metadata": {
            "needs_background": "light"
          }
        }
      ]
    },
    {
      "cell_type": "code",
      "metadata": {
        "colab": {
          "base_uri": "https://localhost:8080/"
        },
        "id": "ICEulRtsXG_6",
        "outputId": "887dac13-1a26-4a3c-986f-1282d937136e"
      },
      "source": [
        "km= KMeans(n_clusters=3)\n",
        "y_predicted=km.fit_predict(df[['Age','Income($)']])\n",
        "y_predicted"
      ],
      "execution_count": 36,
      "outputs": [
        {
          "output_type": "execute_result",
          "data": {
            "text/plain": [
              "array([1, 1, 1, 1, 0, 0, 0, 0, 0, 0, 0, 1, 1, 1, 1, 1, 2, 2, 2, 2, 2, 2],\n",
              "      dtype=int32)"
            ]
          },
          "metadata": {},
          "execution_count": 36
        }
      ]
    },
    {
      "cell_type": "code",
      "metadata": {
        "colab": {
          "base_uri": "https://localhost:8080/"
        },
        "id": "9c4_I8tecT5z",
        "outputId": "d4eac1f9-8124-4f72-a865-0aa1a11c13ea"
      },
      "source": [
        "km.cluster_centers_"
      ],
      "execution_count": 37,
      "outputs": [
        {
          "output_type": "execute_result",
          "data": {
            "text/plain": [
              "array([[0.72268908, 0.8974359 ],\n",
              "       [0.1372549 , 0.11633428],\n",
              "       [0.85294118, 0.2022792 ]])"
            ]
          },
          "metadata": {},
          "execution_count": 37
        }
      ]
    },
    {
      "cell_type": "code",
      "metadata": {
        "colab": {
          "base_uri": "https://localhost:8080/",
          "height": 296
        },
        "id": "zpeOWEFKca8R",
        "outputId": "2e42241c-dfb2-4558-ba6e-892cb4ca453e"
      },
      "source": [
        "df1=df[df.cluster==0]\n",
        "df2=df[df.cluster==1]\n",
        "df3=df[df.cluster==2]\n",
        "plt.scatter(df1.Age,df1['Income($)'],color='green')\n",
        "plt.scatter(df2.Age,df2['Income($)'],color='red')\n",
        "plt.scatter(df3.Age,df3['Income($)'],color='yellow')\n",
        "plt.scatter(km.cluster_centers_[:,0],km.cluster_centers_[:,1],color='blue',marker='*',label='centroid')\n",
        "plt.xlabel('Age')\n",
        "plt.ylabel('Income($)')\n",
        "plt.legend()"
      ],
      "execution_count": 38,
      "outputs": [
        {
          "output_type": "execute_result",
          "data": {
            "text/plain": [
              "<matplotlib.legend.Legend at 0x7efd2601cb90>"
            ]
          },
          "metadata": {},
          "execution_count": 38
        },
        {
          "output_type": "display_data",
          "data": {
            "image/png": "[encoded data removed]",
            "text/plain": [
              "<Figure size 432x288 with 1 Axes>"
            ]
          },
          "metadata": {
            "needs_background": "light"
          }
        }
      ]
    }
  ]
}